{
 "cells": [
  {
   "cell_type": "markdown",
   "metadata": {},
   "source": [
    "# Overview"
   ]
  },
  {
   "cell_type": "markdown",
   "metadata": {},
   "source": [
    "A client wants to purchase a home in Westchester county and wants to ensure their home is a good investment. They measure that by ROI they will get in 5 years. Their budget is $500K. Our firm is asked to recommend 5 zipcodes in Westchester county that would be good options."
   ]
  },
  {
   "cell_type": "markdown",
   "metadata": {},
   "source": [
    "# Business Understanding"
   ]
  },
  {
   "cell_type": "markdown",
   "metadata": {},
   "source": [
    "- Objective: Identify five ZIP codes in Westchester County where a client can purchase a home within a $500,000 budget, aiming for optimal Return on Investment (ROI) over a 10-year period.\n",
    "\n",
    "- Stakeholder: A prospective homebuyer seeking a property in Westchester County that not only fits within their financial constraints but also promises substantial appreciation.\n",
    "\n",
    "- Problem: Determining which ZIP codes in Westchester County offer homes priced at or below $500,000 and are projected to yield the highest ROI over a 5-year span.\n",
    "\n",
    "Key Questions\n",
    "1. Which ZIP codes in Westchester County have homes available within the $500,000 budget?\n",
    "2. What are the historical and projected real estate trends in these ZIP codes?\n",
    "3. Which of these areas are anticipated to provide the highest ROI over the next 10 years?\n",
    "\n",
    "Success Metrics: ROI (Return on Investment) over a 5-year period."
   ]
  },
  {
   "cell_type": "markdown",
   "metadata": {},
   "source": [
    "# Data Understanding"
   ]
  },
  {
   "cell_type": "markdown",
   "metadata": {},
   "source": [
    "Our data set contains historical home prices across the US from 1996 to 2018.\n",
    "* RegionID\n",
    "* RegionName\n",
    "* City\n",
    "* State\tMetro\n",
    "* CountyName\n",
    "* SizeRank\n",
    "* Dates and their median home prices"
   ]
  },
  {
   "cell_type": "code",
   "execution_count": null,
   "metadata": {},
   "outputs": [],
   "source": [
    "# install packages\n",
    "!pip install pmdarima\n",
    "!pip install folium"
   ]
  },
  {
   "cell_type": "code",
   "execution_count": null,
   "metadata": {},
   "outputs": [],
   "source": [
    "# import relevant packages\n",
    "import pandas as pd\n",
    "import numpy as np\n",
    "import matplotlib\n",
    "import matplotlib.dates as mdates \n",
    "import matplotlib.pyplot as plt\n",
    "import seaborn as sns\n",
    "from sklearn.metrics import mean_squared_error, mean_absolute_error\n",
    "\n",
    "# statsmodels\n",
    "from statsmodels.tsa.stattools import adfuller, acf, pacf\n",
    "from statsmodels.tsa.seasonal import seasonal_decompose\n",
    "from statsmodels.tsa.arima.model import ARIMA\n",
    "from statsmodels.graphics.tsaplots import plot_acf,plot_pacf\n",
    "from sklearn.model_selection import TimeSeriesSplit\n",
    "from pmdarima import auto_arima\n",
    "import pmdarima as pm\n",
    "import statsmodels.api as sm\n",
    "import folium\n",
    "%matplotlib inline"
   ]
  },
  {
   "cell_type": "code",
   "execution_count": null,
   "metadata": {},
   "outputs": [],
   "source": [
    "# Load the data and preview data\n",
    "df=pd.read_csv('zillow_data.csv')\n",
    "df.head()"
   ]
  },
  {
   "cell_type": "markdown",
   "metadata": {},
   "source": [
    "### Filtering for Westchester\n",
    "Since our client is only interested in purchasing a house in Westchester county we will filter the data to only include those zipcodes."
   ]
  },
  {
   "cell_type": "code",
   "execution_count": null,
   "metadata": {},
   "outputs": [],
   "source": [
    "# Since we know we are only looking in Westchester county, let's filter our dataset for that\n",
    "\n",
    "westchester_df = df[df['CountyName'] == 'Westchester']\n",
    "westchester_df.head()"
   ]
  },
  {
   "cell_type": "code",
   "execution_count": null,
   "metadata": {},
   "outputs": [],
   "source": [
    "df.describe()"
   ]
  },
  {
   "cell_type": "code",
   "execution_count": null,
   "metadata": {},
   "outputs": [],
   "source": [
    "df.shape"
   ]
  },
  {
   "cell_type": "code",
   "execution_count": null,
   "metadata": {},
   "outputs": [],
   "source": [
    "# Basic EDA: summary statistics, data types, and city distribution\n",
    "print(\"Basic Statistics (non-date columns):\")\n",
    "non_date_columns = ['RegionID', 'RegionName', 'SizeRank']\n",
    "print(westchester_df[non_date_columns].describe())\n",
    "\n",
    "print(\"\\nData Information:\")\n",
    "print(westchester_df.info())\n",
    "\n",
    "print(\"\\nTop 10 Cities by Frequency:\")\n",
    "print(westchester_df['City'].value_counts().head(10))\n"
   ]
  },
  {
   "cell_type": "markdown",
   "metadata": {},
   "source": [
    "# Data Preparation"
   ]
  },
  {
   "cell_type": "code",
   "execution_count": null,
   "metadata": {},
   "outputs": [],
   "source": [
    "# How many zip codes are in each city\n",
    "zipcode_counts = westchester_df.groupby('City')['RegionName'].nunique().reset_index()\n",
    "zipcode_counts.columns = ['City', 'Num_Zipcodes']\n",
    "print(zipcode_counts)"
   ]
  },
  {
   "cell_type": "markdown",
   "metadata": {},
   "source": [
    "### Filtering for Home Prices under $500K"
   ]
  },
  {
   "cell_type": "code",
   "execution_count": null,
   "metadata": {},
   "outputs": [],
   "source": [
    "filtered_df = westchester_df[westchester_df['2018-04'] <=500_000]\n",
    "\n",
    "# Display the filtered DataFrame\n",
    "filtered_df.head(15)"
   ]
  },
  {
   "cell_type": "code",
   "execution_count": null,
   "metadata": {},
   "outputs": [],
   "source": [
    "zipcode_counts = filtered_df.groupby('City')['RegionName'].nunique().reset_index()\n",
    "zipcode_counts.columns = ['City', 'Num_Zipcodes']\n",
    "print(zipcode_counts)"
   ]
  },
  {
   "cell_type": "code",
   "execution_count": null,
   "metadata": {},
   "outputs": [],
   "source": [
    "# Check for null values\n",
    "filtered_df.isna().sum()"
   ]
  },
  {
   "cell_type": "code",
   "execution_count": null,
   "metadata": {},
   "outputs": [],
   "source": [
    "# Convert dates to datetime objects\n",
    "def get_datetimes(df):\n",
    "    \"\"\"\n",
    "    Takes a dataframe:\n",
    "    Returns only those column names that can be converted into datetime objects\n",
    "    as datetime objects.\n",
    "    \"\"\"\n",
    "    date_columns = [col for col in df.columns if pd.to_datetime(col, format='%Y-%m', errors='coerce') is not pd.NaT]\n",
    "    return pd.to_datetime(date_columns, format='%Y-%m')\n",
    "\n",
    "# Run the function\n",
    "datetime_columns = get_datetimes(filtered_df)\n",
    "print(datetime_columns)"
   ]
  },
  {
   "cell_type": "code",
   "execution_count": null,
   "metadata": {},
   "outputs": [],
   "source": [
    "# rename columns\n",
    "filtered_df = filtered_df.rename(columns={'RegionName': 'Zipcode'})\n",
    "filtered_df"
   ]
  },
  {
   "cell_type": "markdown",
   "metadata": {},
   "source": [
    "### Visualizing Home Prices over time in each zipcode"
   ]
  },
  {
   "cell_type": "code",
   "execution_count": null,
   "metadata": {},
   "outputs": [],
   "source": [
    "# Step 1: Reshape the DataFrame\n",
    "melted_df = pd.melt(filtered_df, id_vars=['Zipcode', 'City', 'State', 'Metro', 'CountyName'], \n",
    "                    var_name='time', value_name='value')\n",
    "\n",
    "# Step 2: Convert 'time' to datetime\n",
    "melted_df['time'] = pd.to_datetime(melted_df['time'], errors='coerce')\n",
    "\n",
    "# Step 3: Plot the data\n",
    "plt.figure(figsize=(10, 6))\n",
    "for zipcode, group in melted_df.groupby('Zipcode'):\n",
    "    plt.plot(group['time'], group['value'], label=str(zipcode))\n",
    "\n",
    "plt.xlabel('Time')\n",
    "plt.ylabel('Home Price')\n",
    "plt.title('Home Prices Over Time by ZIP Code')\n",
    "plt.legend(title='ZIP Code', bbox_to_anchor=(1.05, 1), loc='upper left')\n",
    "plt.tight_layout()\n",
    "plt.show()"
   ]
  },
  {
   "cell_type": "markdown",
   "metadata": {},
   "source": [
    "### Filter out dates before 2009\n",
    "Due to the housing market crash in 2008, all of our zipcodes saw a drastic dip during that time and the following years. To filter out some of that noise we will filter out all dates and prices before 2009."
   ]
  },
  {
   "cell_type": "code",
   "execution_count": null,
   "metadata": {},
   "outputs": [],
   "source": [
    "import pandas as pd\n",
    "import matplotlib.pyplot as plt\n",
    "\n",
    "# Step 1: Reshape the DataFrame\n",
    "melted_df = pd.melt(filtered_df, \n",
    "                    id_vars=['Zipcode', 'City', 'State', 'Metro', 'CountyName'], \n",
    "                    var_name='time', \n",
    "                    value_name='value')\n",
    "\n",
    "# Step 2: Convert 'time' to datetime\n",
    "melted_df['time'] = pd.to_datetime(melted_df['time'], errors='coerce')\n",
    "\n",
    "# Step 2a: Filter for dates after 2008 (i.e., from 2009 onward)\n",
    "melted_df = melted_df[melted_df['time'] >= pd.to_datetime('2009-01-01')]\n",
    "\n",
    "# Step 3: Plot the data\n",
    "plt.figure(figsize=(10, 6))\n",
    "for zipcode, group in melted_df.groupby('Zipcode'):\n",
    "    plt.plot(group['time'], group['value'], label=str(zipcode))\n",
    "\n",
    "plt.xlabel('Time')\n",
    "plt.ylabel('Home Price')\n",
    "plt.title('Home Prices Over Time by ZIP Code (After 2008)')\n",
    "plt.legend(title='ZIP Code', bbox_to_anchor=(1.05, 1), loc='upper left')\n",
    "plt.tight_layout()\n",
    "plt.show()"
   ]
  },
  {
   "cell_type": "code",
   "execution_count": null,
   "metadata": {},
   "outputs": [],
   "source": [
    "# Calculate ROI\n",
    "pivot_df = melted_df.pivot_table(index='Zipcode', columns='time', values='value')\n",
    "pivot_df['ROI'] = (pivot_df.iloc[:, -1] - pivot_df.iloc[:, 0]) / pivot_df.iloc[:, 0] * 100\n",
    "\n",
    "plt.figure(figsize=(10, 6))\n",
    "pivot_df['ROI'].sort_values().plot(kind='barh', color='skyblue')\n",
    "plt.xlabel('Return on Investment (%)')\n",
    "plt.ylabel('ZIP Code')\n",
    "plt.title('ROI by ZIP Code')\n",
    "plt.tight_layout()\n",
    "plt.show()"
   ]
  },
  {
   "cell_type": "markdown",
   "metadata": {},
   "source": [
    "### Reshape data from wide to long format (melt function)"
   ]
  },
  {
   "cell_type": "code",
   "execution_count": null,
   "metadata": {},
   "outputs": [],
   "source": [
    "def melt_data(df):\n",
    "    # Select only the date columns for melting\n",
    "    date_columns = [col for col in df.columns if isinstance(col, str) and '-' in col]\n",
    "    melted = pd.melt(df, id_vars=['Zipcode', 'City', 'State', 'Metro', 'CountyName'], value_vars=date_columns, var_name='time', value_name='HomePrice')\n",
    "    \n",
    "    # Convert the 'time' column to datetime\n",
    "    melted['time'] = pd.to_datetime(melted['time'], errors='coerce')\n",
    "    \n",
    "    # Drop rows where 'time' could not be converted\n",
    "    melted = melted.dropna(subset=['time'])\n",
    "    \n",
    "    # Group by 'time' and calculate the mean 'HomePrice'\n",
    "    result = melted.groupby('time')['HomePrice'].mean().reset_index()\n",
    "    \n",
    "    return result"
   ]
  },
  {
   "cell_type": "markdown",
   "metadata": {},
   "source": [
    "### Choosing a zipcode to create our model\n",
    "We willuse 10704 as an example zip code to create our model."
   ]
  },
  {
   "cell_type": "code",
   "execution_count": null,
   "metadata": {},
   "outputs": [],
   "source": [
    "# Filter for 10704\n",
    "filtered_df_10704=filtered_df[filtered_df['Zipcode']==10704]"
   ]
  },
  {
   "cell_type": "code",
   "execution_count": null,
   "metadata": {},
   "outputs": [],
   "source": [
    "ts_10704=melt_data(filtered_df_10704)\n",
    "ts_10704"
   ]
  },
  {
   "cell_type": "code",
   "execution_count": null,
   "metadata": {},
   "outputs": [],
   "source": [
    "# Assuming your DataFrame is named df\n",
    "ts_10704['time'] = pd.to_datetime(ts_10704['time'], errors='coerce')\n",
    "\n",
    "# Filter for dates after 2008 (starting from January 1, 2009)\n",
    "ts_10704 = ts_10704[ts_10704['time'] >= pd.to_datetime('2009-01-01')]\n",
    "\n",
    "# Set the 'time' column as the index\n",
    "ts_10704.set_index('time', inplace=True)"
   ]
  },
  {
   "cell_type": "code",
   "execution_count": null,
   "metadata": {},
   "outputs": [],
   "source": [
    "ts_10704"
   ]
  },
  {
   "cell_type": "markdown",
   "metadata": {},
   "source": [
    "### Visualize home prices in zipcode 10704"
   ]
  },
  {
   "cell_type": "code",
   "execution_count": null,
   "metadata": {},
   "outputs": [],
   "source": [
    "# visualize home prices in 10704\n",
    "plt.figure(figsize=(10, 6))\n",
    "plt.plot(ts_10704)\n",
    "plt.title('Real Estate Prices in Zipcode 10704 Over Time')\n",
    "plt.xlabel('Date')\n",
    "plt.ylabel('Price ($)')\n",
    "plt.xticks(rotation=45)\n",
    "plt.grid(True)\n",
    "plt.tight_layout()\n",
    "plt.show()"
   ]
  },
  {
   "cell_type": "code",
   "execution_count": null,
   "metadata": {},
   "outputs": [],
   "source": [
    "ts_10704"
   ]
  },
  {
   "cell_type": "markdown",
   "metadata": {},
   "source": [
    "## Arima Modeling"
   ]
  },
  {
   "cell_type": "markdown",
   "metadata": {},
   "source": [
    "Split data into training and test data and visualize breakdown."
   ]
  },
  {
   "cell_type": "code",
   "execution_count": null,
   "metadata": {},
   "outputs": [],
   "source": [
    "# Split data into train and test\n",
    "train_size = int(len(ts_10704) * 0.8)\n",
    "train, test = ts_10704.iloc[:train_size], ts_10704.iloc[train_size:]"
   ]
  },
  {
   "cell_type": "code",
   "execution_count": null,
   "metadata": {},
   "outputs": [],
   "source": [
    "plt.figure(figsize=(10, 6))\n",
    "plt.plot(train.index, train, label='Train')\n",
    "plt.plot(test.index, test, label='Test')\n",
    "plt.title('Train-Test Split')\n",
    "plt.legend()\n",
    "plt.show()"
   ]
  },
  {
   "cell_type": "code",
   "execution_count": null,
   "metadata": {},
   "outputs": [],
   "source": [
    "# Time Series Split on train\n",
    "split=TimeSeriesSplit()\n",
    "\n",
    "for train_ind, val_ind in split.split(train):\n",
    "    print(f'Train Index: {train_ind}')\n",
    "    print(f'Test Index: {val_ind}')"
   ]
  },
  {
   "cell_type": "markdown",
   "metadata": {},
   "source": [
    "# Auto Arima"
   ]
  },
  {
   "cell_type": "code",
   "execution_count": null,
   "metadata": {},
   "outputs": [],
   "source": [
    "auto_model = pm.auto_arima(\n",
    "    train,         \n",
    "    start_p=0,             # Starting value of p (AR order)\n",
    "    start_q=0,             # Starting value of q (MA order)\n",
    "    test='adf',            # Unit root test to check stationarity (ADF test)\n",
    "    max_p=5,               # Maximum value of p\n",
    "    max_q=5,               # Maximum value of q\n",
    "    m=1,                   # Number of periods in each season (1 for non-seasonal data)\n",
    "    d=0,                   # Order of non-seasonal differencing\n",
    "    seasonal=True,         # Whether to include seasonal components\n",
    "    start_P=0,             # Starting value of P (seasonal AR order)\n",
    "    start_Q=0,             # Starting value of Q (seasonal MA order)\n",
    "    D=0,                   # Order of seasonal differencing\n",
    "    trace=True,            # Whether to print progress messages\n",
    "    error_action='ignore', # Action to take when an error occurs ('ignore' to suppress)\n",
    "    suppress_warnings=True # Whether to suppress warnings\n",
    ")"
   ]
  },
  {
   "cell_type": "markdown",
   "metadata": {},
   "source": [
    "Best model:  ARIMA(2,0,3)"
   ]
  },
  {
   "cell_type": "code",
   "execution_count": null,
   "metadata": {},
   "outputs": [],
   "source": [
    "arima_model = sm.tsa.statespace.SARIMAX(train, \n",
    "                                        order=(4,0,2), \n",
    "                                        seasonal_order=(0, 0, 0, 0), \n",
    "                                        enforce_stationarity=False, \n",
    "                                        enforce_invertibility=False)\n",
    "\n",
    "# Fit the model and print results\n",
    "output = arima_model.fit()\n",
    "\n",
    "print(output.summary().tables[1])\n",
    "auto_model.plot_diagnostics(figsize=(18,18))\n",
    "plt.show()"
   ]
  },
  {
   "cell_type": "markdown",
   "metadata": {},
   "source": [
    "### Forecasting"
   ]
  },
  {
   "cell_type": "code",
   "execution_count": null,
   "metadata": {},
   "outputs": [],
   "source": [
    "forecast_steps = 60  # 5 years * 12 months/year"
   ]
  },
  {
   "cell_type": "code",
   "execution_count": null,
   "metadata": {},
   "outputs": [],
   "source": [
    "forecast = output.get_forecast(steps=forecast_steps)\n",
    "forecast_mean = forecast.predicted_mean\n",
    "forecast_conf_int = forecast.conf_int()"
   ]
  },
  {
   "cell_type": "code",
   "execution_count": null,
   "metadata": {},
   "outputs": [],
   "source": [
    "forecast_dates = pd.date_range(start=train.index[-1] + pd.Timedelta(days=1), periods=forecast_steps, freq='M')"
   ]
  },
  {
   "cell_type": "code",
   "execution_count": null,
   "metadata": {},
   "outputs": [],
   "source": [
    "# Plot historical data\n",
    "plt.plot(train.index, train, label='Historical Data', color='blue')\n",
    "\n",
    "# Plot forecasts\n",
    "plt.plot(forecast_dates, forecast_mean, label='10-Year Forecast', color='red', linestyle='--')\n",
    "\n",
    "# Plot confidence intervals\n",
    "plt.fill_between(forecast_dates, forecast_conf_int.iloc[:, 0], forecast_conf_int.iloc[:, 1], color='red', alpha=0.2)\n",
    "\n",
    "# Add labels and legend\n",
    "plt.xlabel('Date')\n",
    "plt.ylabel('Home Price')\n",
    "plt.title('5-Year Forecast of Home Prices with Confidence Intervals')\n",
    "plt.legend()\n",
    "\n",
    "# Display the plot\n",
    "plt.show()"
   ]
  },
  {
   "cell_type": "markdown",
   "metadata": {},
   "source": [
    "## Applying model to the other Westchester zip codes"
   ]
  },
  {
   "cell_type": "code",
   "execution_count": null,
   "metadata": {},
   "outputs": [],
   "source": [
    "filtered_df"
   ]
  },
  {
   "cell_type": "code",
   "execution_count": null,
   "metadata": {},
   "outputs": [],
   "source": [
    "# Create an array of only the Westchester zip codes\n",
    "westchester_zipcodes = filtered_df['Zipcode'].unique()\n",
    "westchester_zipcodes"
   ]
  },
  {
   "cell_type": "code",
   "execution_count": null,
   "metadata": {},
   "outputs": [],
   "source": [
    "# Initialize an empty dictionary to store filtered DataFrames\n",
    "filtered_dfs = {}\n",
    "\n",
    "# Iterate over each unique ZIP code\n",
    "for zip_code in westchester_zipcodes:\n",
    "    # Filter the DataFrame for the current ZIP code\n",
    "    filtered_dfs[zip_code] = filtered_df[filtered_df['Zipcode'] == zip_code]"
   ]
  },
  {
   "cell_type": "code",
   "execution_count": null,
   "metadata": {},
   "outputs": [],
   "source": [
    "# Initialize an empty dictionary to store the melted DataFrames\n",
    "melted_dfs = {}\n",
    "\n",
    "# Iterate over each unique ZIP code\n",
    "for zipcode in westchester_zipcodes:\n",
    "    # Filter the DataFrame for the current ZIP code\n",
    "    filtered_df_zipcode = filtered_df[filtered_df['Zipcode'] == zipcode]\n",
    "    \n",
    "    # Apply the melt_data function\n",
    "    melted_df = melt_data(filtered_df_zipcode)\n",
    "    \n",
    "    # Convert 'time' to datetime and set it as the index\n",
    "    melted_df['time'] = pd.to_datetime(melted_df['time'], errors='coerce')\n",
    "    melted_df = melted_df[melted_df['time'] >= pd.to_datetime('2009-01-01')]\n",
    "    melted_df.set_index('time', inplace=True)\n",
    "    \n",
    "    # Store the melted DataFrame in the dictionary with the ZIP code as the key\n",
    "    melted_dfs[f'ts_{zipcode}'] = melted_df"
   ]
  },
  {
   "cell_type": "code",
   "execution_count": null,
   "metadata": {},
   "outputs": [],
   "source": [
    "melted_dfs"
   ]
  },
  {
   "cell_type": "markdown",
   "metadata": {},
   "source": [
    "### Apply AutoARIMA to all zipcodes to Forecast future home prices\n",
    "Now that we have a time series for each zip code, we will apply auto ARIMA to each of them to find the optimal parameters to forecast home prices 5 for the next 5 years."
   ]
  },
  {
   "cell_type": "code",
   "execution_count": null,
   "metadata": {},
   "outputs": [],
   "source": [
    "# Initialize a dictionary to store forecasted data for plotting\n",
    "forecasted_data = {}\n",
    "\n",
    "# Initialize a dictionary to store ROI for each ZIP code\n",
    "zip_predictions = {}\n",
    "\n",
    "# Initialize a list to store the final results for the DataFrame\n",
    "data_list = []\n",
    "\n",
    "# Iterate over each key-value pair in the dictionary\n",
    "for zipcode, ts in melted_dfs.items():\n",
    "    # Ensure the DataFrame is sorted by time index\n",
    "    ts = ts.sort_index()\n",
    "    \n",
    "    # Split data into train and test sets\n",
    "    train_size = int(len(ts) * 0.8)\n",
    "    train, test = ts.iloc[:train_size], ts.iloc[train_size:]\n",
    "    \n",
    "    # Auto ARIMA model on the training set\n",
    "    auto_model = pm.auto_arima(train['HomePrice'], start_p=0, start_q=0,\n",
    "                               test='adf', max_p=5, max_q=5, m=1, d=0,\n",
    "                               seasonal=True, start_P=0, start_Q=0, D=0,\n",
    "                               trace=True, error_action='ignore',\n",
    "                               suppress_warnings=True, stepwise=True,\n",
    "                               with_intercept=False)\n",
    "   \n",
    "    # Fit the SARIMAX model on the entire series\n",
    "    arima_model = sm.tsa.statespace.SARIMAX(ts['HomePrice'], \n",
    "                                            order=auto_model.order, \n",
    "                                            seasonal_order=auto_model.seasonal_order, \n",
    "                                            enforce_stationarity=False, \n",
    "                                            enforce_invertibility=False)\n",
    "\n",
    "    # Fit the model\n",
    "    output = arima_model.fit()\n",
    "    \n",
    "    # Forecast for the next 60 periods\n",
    "    forecast = output.get_forecast(steps=60)\n",
    "    prediction = forecast.conf_int()\n",
    "    prediction['prediction'] = forecast.predicted_mean\n",
    "    prediction.columns = ['lower', 'upper', 'prediction']\n",
    "    \n",
    "    # Store forecasted data for plotting\n",
    "    forecast_dates = pd.date_range(start=ts.index[-1] + pd.Timedelta(days=1), periods=60, freq='MS')\n",
    "    forecast_df = pd.DataFrame({'HomePrice': prediction['prediction'].values}, index=forecast_dates)\n",
    "    forecasted_data[zipcode] = forecast_df\n",
    "    \n",
    "    # Calculate ROI and add to the zip_predictions dictionary\n",
    "    last_actual = ts['HomePrice'].iloc[-1]\n",
    "    last_predicted = prediction['prediction'].iloc[-1]\n",
    "    roi = (last_predicted - last_actual) / last_actual\n",
    "    zip_predictions[zipcode] = roi\n",
    "    \n",
    "    # Add the data to the list for the DataFrame\n",
    "    data_list.append([zipcode, last_actual, last_predicted, roi])\n",
    "\n",
    "# Create a DataFrame from the list\n",
    "df = pd.DataFrame(data_list, columns=['Zipcode', 'Last_Actual_Price', 'Last_Predicted_Price', 'ROI'])\n",
    "\n",
    "# Display the DataFrame\n",
    "print(df)"
   ]
  },
  {
   "cell_type": "code",
   "execution_count": null,
   "metadata": {},
   "outputs": [],
   "source": [
    "# Remove 'ts_' prefix from 'Zipcode' column\n",
    "df['Zipcode'] = df['Zipcode'].str.removeprefix('ts_')\n",
    "df"
   ]
  },
  {
   "cell_type": "markdown",
   "metadata": {},
   "source": [
    "### Visualize forecasts and ROI for each zipcode"
   ]
  },
  {
   "cell_type": "code",
   "execution_count": null,
   "metadata": {},
   "outputs": [],
   "source": [
    "# Plot all forecasts on the same graph\n",
    "plt.figure(figsize=(10, 6))\n",
    "for zipcode, forecast_df in forecasted_data.items():\n",
    "    plt.plot(forecast_df.index, forecast_df['HomePrice'], label=f'ZIP Code {zipcode}')\n",
    "\n",
    "plt.xlabel('Time')\n",
    "plt.ylabel('Home Price')\n",
    "plt.title('Home Price Forecasts for ZIP Codes')\n",
    "plt.legend(title='ZIP Code', bbox_to_anchor=(1.05, 1), loc='upper left')\n",
    "plt.tight_layout()\n",
    "plt.show()\n",
    "\n",
    "# Plot ROI for each ZIP code\n",
    "plt.figure(figsize=(10, 6))\n",
    "plt.bar(zip_predictions.keys(), zip_predictions.values(), color='skyblue')\n",
    "plt.xlabel('ZIP Code')\n",
    "plt.ylabel('ROI')\n",
    "plt.title('ROI for Each ZIP Code in Westchester')\n",
    "plt.xticks(rotation=45)\n",
    "plt.tight_layout()\n",
    "plt.show()"
   ]
  },
  {
   "cell_type": "markdown",
   "metadata": {},
   "source": [
    "### Visualize home prices for top 5 zipcodes by ROI"
   ]
  },
  {
   "cell_type": "code",
   "execution_count": null,
   "metadata": {},
   "outputs": [],
   "source": [
    "# Sort the ZIP codes by ROI in descending order and select the top 5\n",
    "top_5_zipcodes = sorted(zip_predictions, key=zip_predictions.get, reverse=True)[:5]\n",
    "\n",
    "# Plot the forecasts for the top 5 ZIP codes\n",
    "plt.figure(figsize=(10, 6))\n",
    "for zipcode in top_5_zipcodes:\n",
    "    forecast_df = forecasted_data[zipcode]\n",
    "    plt.plot(forecast_df.index, forecast_df['HomePrice'], label=f'ZIP Code {zipcode}')\n",
    "\n",
    "plt.xlabel('Time')\n",
    "plt.ylabel('Home Price')\n",
    "plt.title('Home Price Forecasts for Top 5 ZIP Codes by ROI')\n",
    "plt.legend(title='ZIP Code', bbox_to_anchor=(1.05, 1), loc='upper left')\n",
    "plt.tight_layout()\n",
    "plt.show()"
   ]
  },
  {
   "cell_type": "code",
   "execution_count": null,
   "metadata": {},
   "outputs": [],
   "source": [
    "top_5_df = df.sort_values(by='ROI', ascending=False).head(5)\n",
    "top_5_df"
   ]
  },
  {
   "cell_type": "markdown",
   "metadata": {},
   "source": [
    "### Plot ROI for top 5 zip codes"
   ]
  },
  {
   "cell_type": "code",
   "execution_count": null,
   "metadata": {},
   "outputs": [],
   "source": [
    "# Plotting\n",
    "plt.figure(figsize=(10, 6))\n",
    "bars = plt.bar(top_5_df['Zipcode'].astype(str), top_5_df['ROI'], color=colors, edgecolor='black', linewidth=1.2)\n",
    "\n",
    "# Add labels and title\n",
    "plt.xlabel('ZIP Code', fontsize=12, fontweight='bold')\n",
    "plt.ylabel('ROI', fontsize=12, fontweight='bold')\n",
    "plt.title('Top 5 ZIP Codes by ROI', fontsize=14, fontweight='bold', pad=15)\n",
    "\n",
    "# Customize grid lines\n",
    "plt.grid(axis='y', linestyle='--', alpha=0.7)\n",
    "\n",
    "# Remove top and right spines\n",
    "plt.gca().spines['top'].set_visible(False)\n",
    "plt.gca().spines['right'].set_visible(False)\n",
    "\n",
    "# Display ROI values above bars\n",
    "for bar in bars:\n",
    "    height = bar.get_height()\n",
    "    plt.text(bar.get_x() + bar.get_width() / 2, height + 0.005, f'{height:.2%}',\n",
    "             ha='center', va='bottom', fontsize=12, fontweight='bold', color='black')\n",
    "\n",
    "# Adjust layout\n",
    "plt.tight_layout()\n",
    "plt.show()"
   ]
  },
  {
   "cell_type": "code",
   "execution_count": null,
   "metadata": {},
   "outputs": [],
   "source": [
    "# Merge the DataFrames on 'Zipcode'\n",
    "merged_df = pd.merge(top_5_df, filtered_df, on='Zipcode', how='left')\n",
    "\n",
    "final_df = merged_df[['Zipcode', 'City', 'State', 'Metro', 'CountyName', 'SizeRank',\n",
    "                       'Last_Actual_Price', 'Last_Predicted_Price', 'ROI']]\n",
    "\n",
    "# Display the final DataFrame\n",
    "final_df"
   ]
  },
  {
   "cell_type": "markdown",
   "metadata": {},
   "source": [
    "## Recommendations"
   ]
  },
  {
   "cell_type": "markdown",
   "metadata": {},
   "source": [
    "The top zipcodes by expected ROI over 5 years are:\n",
    "1. 10701 - Yonkers\n",
    "2. 10704 - Yonkers\n",
    "3. 10598 - Yorktown\n",
    "4. 10705 - Yonkers\n",
    "5. 10703 - Yonkers"
   ]
  },
  {
   "cell_type": "code",
   "execution_count": null,
   "metadata": {},
   "outputs": [],
   "source": [
    "# Approximate latitude and longitude for each ZIP code\n",
    "zip_coords = {\n",
    "    '10701': [40.931, -73.890],\n",
    "    '10705': [40.946, -73.865],\n",
    "    '10704': [40.946, -73.902],\n",
    "    '10598': [41.305, -73.866],\n",
    "    '10703': [40.975, -73.880]}"
   ]
  },
  {
   "cell_type": "code",
   "execution_count": null,
   "metadata": {},
   "outputs": [],
   "source": [
    "# Create a base map centered roughly on Westchester County\n",
    "m = folium.Map(location=[40.93, -73.90], zoom_start=11)\n",
    "\n",
    "# Add markers for each ZIP code in the merged DataFrame\n",
    "for idx, row in merged_df.iterrows():\n",
    "    zipcode = row['Zipcode']\n",
    "    lat, lon = zip_coords.get(zipcode, [40.93, -73.90])\n",
    "    popup_text = f\"{row['City']}, {row['State']} (Zip: {zipcode})<br>ROI: {row['ROI']:.2%}\"\n",
    "    folium.Marker(\n",
    "        location=[lat, lon],\n",
    "        popup=popup_text,\n",
    "        icon=folium.Icon(color='blue', icon='home', prefix='fa')\n",
    "    ).add_to(m)\n",
    "\n",
    "# Save the map to an HTML file and display it\n",
    "m.save('top_zipcodes_map.html')\n",
    "m"
   ]
  },
  {
   "cell_type": "markdown",
   "metadata": {},
   "source": [
    "# Conclusion"
   ]
  },
  {
   "cell_type": "markdown",
   "metadata": {},
   "source": [
    "Based on the time series analysis and ARIMA modeling, we identified ZIP codes in Westchester County with homes priced at or below $500K and projected their home prices over the next 5 years. By calculating the expected ROI for each ZIP code, we can now highlight the top 5 areas that present the most promising investment opportunities for our client"
   ]
  },
  {
   "cell_type": "markdown",
   "metadata": {},
   "source": [
    "## Next Steps"
   ]
  },
  {
   "cell_type": "code",
   "execution_count": null,
   "metadata": {},
   "outputs": [],
   "source": []
  }
 ],
 "metadata": {
  "kernelspec": {
   "display_name": "Python 3 (ipykernel)",
   "language": "python",
   "name": "python3"
  },
  "language_info": {
   "codemirror_mode": {
    "name": "ipython",
    "version": 3
   },
   "file_extension": ".py",
   "mimetype": "text/x-python",
   "name": "python",
   "nbconvert_exporter": "python",
   "pygments_lexer": "ipython3",
   "version": "3.11.5"
  }
 },
 "nbformat": 4,
 "nbformat_minor": 2
}
